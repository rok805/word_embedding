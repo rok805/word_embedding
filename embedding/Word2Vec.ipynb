{
 "cells": [
  {
   "cell_type": "code",
   "execution_count": 1,
   "metadata": {},
   "outputs": [],
   "source": [
    "from gensim.models import Word2Vec\n",
    "import gensim\n",
    "\n",
    "from datetime import datetime\n",
    "from tqdm import tqdm\n",
    "import pandas as pd\n",
    "import os\n"
   ]
  },
  {
   "cell_type": "code",
   "execution_count": 2,
   "metadata": {
    "scrolled": true
   },
   "outputs": [
    {
     "name": "stderr",
     "output_type": "stream",
     "text": [
      "100%|██████████| 844013/844013 [00:22<00:00, 37934.82it/s]\n"
     ]
    }
   ],
   "source": [
    "nouns = []\n",
    "with open('/storage/rok/Korean_Embedding/corpus_nouns.txt', 'r') as f:\n",
    "    for sentence in tqdm(f.readlines()):\n",
    "        nouns.append(sentence.split())"
   ]
  },
  {
   "cell_type": "code",
   "execution_count": 5,
   "metadata": {},
   "outputs": [
    {
     "name": "stderr",
     "output_type": "stream",
     "text": [
      "100%|██████████| 844013/844013 [00:32<00:00, 25947.72it/s]\n"
     ]
    }
   ],
   "source": [
    "morphs = []\n",
    "with open('/storage/rok/Korean_Embedding/corpus_morphs.txt', 'r') as f:\n",
    "    for sentence in tqdm(f.readlines()):\n",
    "        morphs.append(sentence.split())"
   ]
  },
  {
   "cell_type": "code",
   "execution_count": 8,
   "metadata": {},
   "outputs": [],
   "source": [
    "def w2v(data, sg, name):\n",
    "    \n",
    "    begin = datetime.now()\n",
    "    model = Word2Vec(sentences=data, vector_size=100, window=5, min_count=5, workers=8, sg=sg)\n",
    "    end = datetime.now() - begin\n",
    "    print(end)\n",
    "        \n",
    "#     if sg == 0:    \n",
    "#         model.save('CBOW_'+name)\n",
    "#     elif sg == 1:\n",
    "#         model.save('Skip_gram_'+name)\n",
    "    \n",
    "    return model"
   ]
  },
  {
   "cell_type": "code",
   "execution_count": 9,
   "metadata": {
    "scrolled": true
   },
   "outputs": [
    {
     "name": "stdout",
     "output_type": "stream",
     "text": [
      "0:06:35.485309\n"
     ]
    },
    {
     "data": {
      "text/plain": [
       "[('급속도', 0.5682477951049805),\n",
       " ('감염병', 0.5641337037086487),\n",
       " ('대유행', 0.5145671367645264),\n",
       " ('전염병', 0.5041579604148865),\n",
       " ('팬데', 0.5020188689231873),\n",
       " ('세에', 0.49777543544769287),\n",
       " ('델타', 0.4883284866809845),\n",
       " ('선제', 0.48751300573349),\n",
       " ('변이', 0.48374509811401367),\n",
       " ('긴급', 0.4815945327281952)]"
      ]
     },
     "execution_count": 9,
     "metadata": {},
     "output_type": "execute_result"
    }
   ],
   "source": [
    "cbow_nouns = w2v(data=nouns, sg=0, name='nouns')\n",
    "cbow_nouns.wv.most_similar('코로나', topn=10)"
   ]
  },
  {
   "cell_type": "code",
   "execution_count": 10,
   "metadata": {},
   "outputs": [],
   "source": [
    "cbow_nouns.save('/storage/rok/Korean_Embedding/embedding_models/CBOW_nouns')"
   ]
  },
  {
   "cell_type": "code",
   "execution_count": 13,
   "metadata": {},
   "outputs": [
    {
     "name": "stdout",
     "output_type": "stream",
     "text": [
      "0:08:49.425407\n"
     ]
    },
    {
     "data": {
      "text/plain": [
       "[('감염병', 0.6354378461837769),\n",
       " ('긴급', 0.5360808968544006),\n",
       " ('전염병', 0.5285854339599609),\n",
       " ('팬데', 0.499860942363739),\n",
       " ('변이', 0.4852803945541382),\n",
       " ('대유행', 0.48298054933547974),\n",
       " ('주춤세', 0.4698794186115265),\n",
       " ('유행', 0.4597560167312622),\n",
       " ('델타', 0.4545675218105316),\n",
       " ('감염', 0.44644007086753845)]"
      ]
     },
     "execution_count": 13,
     "metadata": {},
     "output_type": "execute_result"
    }
   ],
   "source": [
    "cbow_morphs = w2v(data=morphs, sg=0, name='morphs')\n",
    "cbow_morphs.wv.most_similar('코로나', topn=10)"
   ]
  },
  {
   "cell_type": "code",
   "execution_count": 14,
   "metadata": {},
   "outputs": [],
   "source": [
    "cbow_morphs.save('/storage/rok/Korean_Embedding/embedding_models/CBOW_morphs')"
   ]
  },
  {
   "cell_type": "code",
   "execution_count": 15,
   "metadata": {},
   "outputs": [
    {
     "name": "stdout",
     "output_type": "stream",
     "text": [
      "0:26:07.899333\n"
     ]
    },
    {
     "data": {
      "text/plain": [
       "[('감염증', 0.9177228808403015),\n",
       " ('신종', 0.8521395921707153),\n",
       " ('바이러스', 0.8472729325294495),\n",
       " ('대유행', 0.7795135974884033),\n",
       " ('확산', 0.7364626526832581),\n",
       " ('전별', 0.7263097167015076),\n",
       " ('팬데', 0.6829882264137268),\n",
       " ('목포도', 0.6774687767028809),\n",
       " ('신재우', 0.6702590584754944),\n",
       " ('김예나', 0.6690797209739685)]"
      ]
     },
     "execution_count": 15,
     "metadata": {},
     "output_type": "execute_result"
    }
   ],
   "source": [
    "skipgram_morphs = w2v(data=morphs, sg=1, name='morphs')\n",
    "skipgram_morphs.wv.most_similar('코로나', topn=10)"
   ]
  },
  {
   "cell_type": "code",
   "execution_count": null,
   "metadata": {},
   "outputs": [],
   "source": [
    "skipgram_morphs = w2v(data=morphs, sg=1, name='morphs')\n",
    "skipgram_morphs.wv.most_similar('코로나', topn=10)"
   ]
  },
  {
   "cell_type": "code",
   "execution_count": 16,
   "metadata": {},
   "outputs": [],
   "source": [
    "skipgram_morphs.save('/storage/rok/Korean_Embedding/embedding_models/Skip_gram_morphs')"
   ]
  },
  {
   "cell_type": "code",
   "execution_count": 17,
   "metadata": {},
   "outputs": [
    {
     "name": "stdout",
     "output_type": "stream",
     "text": [
      "0:15:24.296470\n"
     ]
    },
    {
     "data": {
      "text/plain": [
       "[('감염증', 0.9348223209381104),\n",
       " ('신종', 0.872430145740509),\n",
       " ('바이러스', 0.8652440309524536),\n",
       " ('대유행', 0.7783232927322388),\n",
       " ('확산', 0.7560309767723083),\n",
       " ('전별', 0.7374328374862671),\n",
       " ('다립', 0.729518473148346),\n",
       " ('확진', 0.717681348323822),\n",
       " ('감역', 0.7056857347488403),\n",
       " ('감염', 0.689236044883728)]"
      ]
     },
     "execution_count": 17,
     "metadata": {},
     "output_type": "execute_result"
    }
   ],
   "source": [
    "skipgram_nouns = w2v(data=nouns, sg=1, name='nouns')\n",
    "skipgram_nouns.wv.most_similar('코로나', topn=10)"
   ]
  },
  {
   "cell_type": "code",
   "execution_count": 18,
   "metadata": {},
   "outputs": [],
   "source": [
    "skipgram_nouns.save('/storage/rok/Korean_Embedding/embedding_models/Skip_gram_nouns')"
   ]
  },
  {
   "cell_type": "code",
   "execution_count": null,
   "metadata": {},
   "outputs": [],
   "source": [
    "os.listdir()"
   ]
  },
  {
   "cell_type": "code",
   "execution_count": 22,
   "metadata": {},
   "outputs": [],
   "source": [
    "del cbow_nouns\n",
    "del cbow_morphs\n",
    "del skipgram_nouns\n",
    "del skipgram_morphs\n",
    "del morphs\n",
    "del nouns"
   ]
  },
  {
   "cell_type": "code",
   "execution_count": 24,
   "metadata": {},
   "outputs": [],
   "source": [
    "m1 = gensim.models.Word2Vec.load('/storage/rok/Korean_Embedding/embedding_models/Skip_gram_nouns')"
   ]
  },
  {
   "cell_type": "code",
   "execution_count": 26,
   "metadata": {},
   "outputs": [
    {
     "name": "stdout",
     "output_type": "stream",
     "text": [
      "Once deleted, variables cannot be recovered. Proceed (y/[n])? y\n"
     ]
    }
   ],
   "source": [
    "%reset"
   ]
  },
  {
   "cell_type": "code",
   "execution_count": null,
   "metadata": {},
   "outputs": [],
   "source": []
  }
 ],
 "metadata": {
  "kernelspec": {
   "display_name": "Python 3",
   "language": "python",
   "name": "python3"
  },
  "language_info": {
   "codemirror_mode": {
    "name": "ipython",
    "version": 3
   },
   "file_extension": ".py",
   "mimetype": "text/x-python",
   "name": "python",
   "nbconvert_exporter": "python",
   "pygments_lexer": "ipython3",
   "version": "3.7.6"
  }
 },
 "nbformat": 4,
 "nbformat_minor": 2
}
